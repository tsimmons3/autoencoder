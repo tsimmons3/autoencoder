{
 "cells": [
  {
   "cell_type": "markdown",
   "metadata": {},
   "source": [
    "# Testing of the LCD Data"
   ]
  },
  {
   "cell_type": "code",
   "execution_count": null,
   "metadata": {
    "collapsed": false
   },
   "outputs": [],
   "source": [
    "%matplotlib inline\n",
    "\n",
    "import numpy as np\n",
    "import h5py\n",
    "import matplotlib.pyplot as plt\n",
    "from mpl_toolkits.mplot3d import Axes3D\n",
    "\n",
    "f1 = h5py.File(\"GammaEscan_1_1.h5\", \"r\")\n",
    "ecal1 = f1[\"ECAL\"]\n",
    "hcal1 = f1[\"HCAL\"]\n",
    "targ1 = f1[\"target\"]\n",
    "\n",
    "f2 = h5py.File(\"GammaPi0_shuffled_45.h5\", \"r\")\n",
    "ecal2 = f2[\"ECAL\"]\n",
    "hcal2 = f2[\"HCAL\"]\n",
    "targ2 = f2[\"target\"]\n",
    "\n",
    "f3 = h5py.File(\"Pi0Escan_4_10.h5\", \"r\")\n",
    "ecal3 = f3[\"ECAL\"]\n",
    "hcal3 = f3[\"HCAL\"]\n",
    "targ3 = f3[\"target\"]"
   ]
  },
  {
   "cell_type": "markdown",
   "metadata": {},
   "source": [
    "## Check relation between incoming particle energy and summed detector energy"
   ]
  },
  {
   "cell_type": "code",
   "execution_count": null,
   "metadata": {
    "collapsed": false
   },
   "outputs": [],
   "source": [
    "energyf1 = []\n",
    "energyf2 = []\n",
    "energyf3 = []\n",
    "\n",
    "for i in range(0,100):\n",
    "    energyf1.append(np.sum(ecal1[i*10]) + np.sum(hcal1[i*10]))\n",
    "    energyf2.append(np.sum(ecal2[i*10]) + np.sum(hcal2[i*10]))\n",
    "    energyf3.append(np.sum(ecal3[i*10]) + np.sum(hcal3[i*10]))"
   ]
  },
  {
   "cell_type": "code",
   "execution_count": null,
   "metadata": {
    "collapsed": true
   },
   "outputs": [],
   "source": [
    "incomingf1 = []\n",
    "incomingf2 = []\n",
    "incomingf3 = []\n",
    "for i in range(0,100):\n",
    "    incomingf1.append(targ1[i*10,0,1])\n",
    "    incomingf2.append(targ2[i*10,0,1])\n",
    "    incomingf3.append(targ3[i*10,0,1])"
   ]
  },
  {
   "cell_type": "code",
   "execution_count": null,
   "metadata": {
    "collapsed": false,
    "scrolled": true
   },
   "outputs": [],
   "source": [
    "plt.plot(incomingf1, energyf1, 'ro')\n",
    "plt.xlabel('Incoming Energy')\n",
    "plt.ylabel('Summed Detector Energy')\n",
    "plt.title('GammaEscan_1_1.h5')\n",
    "plt.plot(np.unique(incomingf1), np.poly1d(np.polyfit(incomingf1, energyf1, 1))(np.unique(incomingf1)))\n",
    "plt.show()"
   ]
  },
  {
   "cell_type": "code",
   "execution_count": null,
   "metadata": {
    "collapsed": false
   },
   "outputs": [],
   "source": [
    "plt.plot(incomingf2, energyf2, 'ro')\n",
    "plt.xlabel('Incoming Energy')\n",
    "plt.ylabel('Summed Detector Energy')\n",
    "plt.title('GammaPi0_shuffled_45.h5')\n",
    "plt.plot(np.unique(incomingf2), np.poly1d(np.polyfit(incomingf2, energyf2, 1))(np.unique(incomingf2)))\n",
    "plt.show()"
   ]
  },
  {
   "cell_type": "code",
   "execution_count": null,
   "metadata": {
    "collapsed": false
   },
   "outputs": [],
   "source": [
    "plt.plot(incomingf3, energyf3, 'ro')\n",
    "plt.xlabel('Incoming Energy')\n",
    "plt.ylabel('Summed Detector Energy')\n",
    "plt.title('Pi0Escan_4_10.h5')\n",
    "plt.plot(np.unique(incomingf3), np.poly1d(np.polyfit(incomingf3, energyf3, 1))(np.unique(incomingf3)))\n",
    "plt.show()"
   ]
  },
  {
   "cell_type": "code",
   "execution_count": null,
   "metadata": {
    "collapsed": false
   },
   "outputs": [],
   "source": [
    "np.poly1d(np.polyfit(incomingf1, energyf1, 1))"
   ]
  },
  {
   "cell_type": "code",
   "execution_count": null,
   "metadata": {
    "collapsed": false
   },
   "outputs": [],
   "source": [
    "np.poly1d(np.polyfit(incomingf2, energyf2, 1))"
   ]
  },
  {
   "cell_type": "code",
   "execution_count": null,
   "metadata": {
    "collapsed": false
   },
   "outputs": [],
   "source": [
    "np.poly1d(np.polyfit(incomingf3, energyf3, 1))"
   ]
  },
  {
   "cell_type": "code",
   "execution_count": null,
   "metadata": {
    "collapsed": true
   },
   "outputs": [],
   "source": []
  }
 ],
 "metadata": {
  "kernelspec": {
   "display_name": "Python [Root]",
   "language": "python",
   "name": "Python [Root]"
  },
  "language_info": {
   "codemirror_mode": {
    "name": "ipython",
    "version": 2
   },
   "file_extension": ".py",
   "mimetype": "text/x-python",
   "name": "python",
   "nbconvert_exporter": "python",
   "pygments_lexer": "ipython2",
   "version": "2.7.12"
  }
 },
 "nbformat": 4,
 "nbformat_minor": 0
}
